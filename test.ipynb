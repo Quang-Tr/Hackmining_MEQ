{
 "cells": [
  {
   "cell_type": "code",
   "execution_count": 44,
   "metadata": {},
   "outputs": [],
   "source": [
    "import pandas as pd\n",
    "import ipywidgets as widgets\n",
    "from os import listdir\n",
    "import time\n",
    "# import re"
   ]
  },
  {
   "cell_type": "code",
   "execution_count": 45,
   "metadata": {},
   "outputs": [
    {
     "data": {
      "application/vnd.jupyter.widget-view+json": {
       "model_id": "992eff4be0e54a7c943207e667cba78d",
       "version_major": 2,
       "version_minor": 0
      },
      "text/plain": [
       "interactive(children=(Dropdown(description='Load Parquet:', options=('2021-10-06-03-08-07.parquet', '2021-10-0…"
      ]
     },
     "metadata": {},
     "output_type": "display_data"
    }
   ],
   "source": [
    "fileNames = [f for f in listdir('ParquetEmilia')]\n",
    "files = widgets.Dropdown(\n",
    "    options=fileNames,\n",
    "    value=fileNames[0],\n",
    "    description='Load Parquet:',\n",
    ")\n",
    "\n",
    "def readFile(files):\n",
    "    global df\n",
    "    df = pd.read_parquet('ParquetEmilia/'+files)\n",
    "    # if len(files) > 1:\n",
    "    #     for f in files[1:]:\n",
    "    #         df = pd.concat([df, pd.read_parquet('ParquetEmilia/'+f)])\n",
    "widgets.interactive(readFile, files=files)"
   ]
  },
  {
   "cell_type": "code",
   "execution_count": 47,
   "metadata": {},
   "outputs": [],
   "source": [
    "# df = pd.read_parquet('ParquetEmilia')\n",
    "# df.dropna(axis=1, how='all', inplace=True)\n",
    "# xlsx = pd.read_excel('Mapping.xlsx', sheet_name='Tabelle2', index_col=0, usecols='A,K:L')\n",
    "# xlsx.dropna(how='all', inplace=True)\n",
    "# for colName in list(df.columns.values):\n",
    "#     if re.search('i$', colName):\n",
    "#         df.drop(columns=colName, inplace=True)\n",
    "#     else:\n",
    "#         df.rename(columns={colName: xlsx.at[colName[-7:], 'SP Label']}, inplace=True)\n",
    "# df"
   ]
  },
  {
   "cell_type": "code",
   "execution_count": 48,
   "metadata": {},
   "outputs": [],
   "source": [
    "timestampRange = widgets.SelectionRangeSlider(\n",
    "    options=list(df.index),\n",
    "    index=(0, len(df)-1),\n",
    "    description='Timestamp Range',\n",
    "    layout={'width': '75%'}\n",
    ")\n",
    "signalKeys = list(df.columns)\n",
    "signalType = widgets.SelectMultiple(\n",
    "    options=signalKeys,\n",
    "    value=[signalKeys[0]],\n",
    "    description='Signal Type:'\n",
    ")\n",
    "\n",
    "def plotSingleSignal(timestampRange, signalType):\n",
    "    signal = df.loc[timestampRange[0]:timestampRange[1], signalType]\n",
    "    signal.plot(ms=3, alpha=0.7)\n",
    "timePeriod = widgets.interactive(plotSingleSignal, timestampRange=timestampRange, signalType=signalType)"
   ]
  },
  {
   "cell_type": "code",
   "execution_count": 49,
   "metadata": {},
   "outputs": [],
   "source": [
    "def histogram(timestampRange, signalType):\n",
    "    signal = df.loc[timestampRange[0]:timestampRange[1], signalType]\n",
    "    signal.plot.hist(alpha=0.7)\n",
    "    # if isinstance(signal, pd.Series):\n",
    "    #     signal.plot.hist(alpha=0.7)\n",
    "    # else:\n",
    "    #     for colName, signal in df.loc[:, signalType].items():\n",
    "    #         signal.plot.hist(alpha=0.7)\n",
    "histogram = widgets.interactive(histogram, timestampRange=timestampRange, signalType=signalType)"
   ]
  },
  {
   "cell_type": "code",
   "execution_count": 50,
   "metadata": {},
   "outputs": [],
   "source": [
    "def boxplot(timestampRange, signalType):\n",
    "    signal = df.loc[timestampRange[0]:timestampRange[1], signalType]\n",
    "    signal.boxplot()\n",
    "boxplot = widgets.interactive(boxplot, timestampRange=timestampRange, signalType=signalType)"
   ]
  },
  {
   "cell_type": "code",
   "execution_count": 51,
   "metadata": {},
   "outputs": [],
   "source": [
    "def minmax(timestampRange, signalType):\n",
    "    signal = df.loc[timestampRange[0]:timestampRange[1], signalType]\n",
    "    print('Min:')\n",
    "    print(signal.min().to_string())\n",
    "    print()\n",
    "    print('Max:')\n",
    "    print(signal.max().to_string())\n",
    "    print()\n",
    "    print('Mean:')\n",
    "    print(signal.mean().to_string())\n",
    "minmax = widgets.interactive(minmax, timestampRange=timestampRange, signalType=signalType)"
   ]
  },
  {
   "cell_type": "markdown",
   "metadata": {},
   "source": [
    "Use Ctrl/Shift to select multiple signal types."
   ]
  },
  {
   "cell_type": "code",
   "execution_count": 52,
   "metadata": {},
   "outputs": [
    {
     "data": {
      "application/vnd.jupyter.widget-view+json": {
       "model_id": "19dce878231f45048355c105403cfce9",
       "version_major": 2,
       "version_minor": 0
      },
      "text/plain": [
       "GridspecLayout(children=(interactive(children=(SelectionRangeSlider(description='Timestamp Range', index=(0, 5…"
      ]
     },
     "metadata": {},
     "output_type": "display_data"
    }
   ],
   "source": [
    "grid = widgets.GridspecLayout(2, 2)\n",
    "grid[0, 0] = timePeriod\n",
    "grid[0, 1] = histogram\n",
    "grid[1, 0] = boxplot\n",
    "grid[1, 1] = minmax\n",
    "grid"
   ]
  },
  {
   "cell_type": "code",
   "execution_count": null,
   "metadata": {},
   "outputs": [],
   "source": []
  }
 ],
 "metadata": {
  "kernelspec": {
   "display_name": "Python 3 (ipykernel)",
   "language": "python",
   "name": "python3"
  },
  "language_info": {
   "codemirror_mode": {
    "name": "ipython",
    "version": 3
   },
   "file_extension": ".py",
   "mimetype": "text/x-python",
   "name": "python",
   "nbconvert_exporter": "python",
   "pygments_lexer": "ipython3",
   "version": "3.10.2"
  },
  "vscode": {
   "interpreter": {
    "hash": "9a37ed7424a6b2a1ba857c143e4f90aada9d8d9606051745050e70c479c86181"
   }
  }
 },
 "nbformat": 4,
 "nbformat_minor": 2
}
